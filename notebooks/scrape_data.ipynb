{
 "cells": [
  {
   "cell_type": "code",
   "execution_count": 2,
   "metadata": {},
   "outputs": [],
   "source": [
    "import requests\n",
    "import pandas as pd"
   ]
  },
  {
   "cell_type": "code",
   "execution_count": 3,
   "metadata": {},
   "outputs": [],
   "source": [
    "NEWS_SITES = {'Lajmi':'https://lajmi.net/', }\n",
    "PER_PAGE = 100"
   ]
  },
  {
   "cell_type": "code",
   "execution_count": 6,
   "metadata": {},
   "outputs": [
    {
     "name": "stdout",
     "output_type": "stream",
     "text": [
      "{'Date': 'Wed, 26 Aug 2020 06:53:32 GMT', 'Content-Type': 'application/json; charset=UTF-8', 'Transfer-Encoding': 'chunked', 'Connection': 'keep-alive', 'Set-Cookie': '__cfduid=de9a3d5ea965724d37d034c30e485049d1598424811; expires=Fri, 25-Sep-20 06:53:31 GMT; path=/; domain=.lajmi.net; HttpOnly; SameSite=Lax; Secure', 'Vary': 'Accept-Encoding', 'X-Robots-Tag': 'noindex', 'X-Content-Type-Options': 'nosniff', 'Access-Control-Expose-Headers': 'X-WP-Total, X-WP-TotalPages', 'Access-Control-Allow-Headers': 'Authorization, Content-Type', 'X-WP-Total': '532591', 'X-WP-TotalPages': '5326', 'Link': '<https://lajmi.net/wp-json/wp/v2/posts?page=2&per_page=100>; rel=\"next\"', 'Allow': 'GET', 'Content-Encoding': 'gzip', 'X-Cache-Status': 'EXPIRED', 'CF-Cache-Status': 'DYNAMIC', 'cf-request-id': '04cb2421c00000980ef92d9200000001', 'Expect-CT': 'max-age=604800, report-uri=\"https://report-uri.cloudflare.com/cdn-cgi/beacon/expect-ct\"', 'Server': 'cloudflare', 'CF-RAY': '5c8ba2e2ce3a980e-FRA'}\n"
     ]
    }
   ],
   "source": [
    "url = \"https://lajmi.net/wp-json/wp/v2/posts?page=1&per_page=100\"\n",
    "# Make request\n",
    "r = requests.get(url=url)\n",
    "# Extracting data in json format \n",
    "print(r.headers)"
   ]
  },
  {
   "cell_type": "code",
   "execution_count": 7,
   "metadata": {},
   "outputs": [],
   "source": [
    "total_posts = int(r.headers['X-WP-Total'])\n",
    "total_pages = int(r.headers['X-WP-TotalPages'])"
   ]
  },
  {
   "cell_type": "code",
   "execution_count": 11,
   "metadata": {},
   "outputs": [
    {
     "name": "stdout",
     "output_type": "stream",
     "text": [
      "No more posts could be found for Lajmi at page=1000000\n"
     ]
    }
   ],
   "source": [
    "\n",
    "\n",
    "\n",
    "\n",
    "for news_site, web_page in NEWS_SITES.items():\n",
    "    print(f\"Starting getting posts of {news_site}\")\n",
    "    result = pd.DataFrame()\n",
    "    page = 1000000\n",
    "    while True:\n",
    "        # Create url\n",
    "        api = f\"wp-json/wp/v2/posts?page={page}&per_page={PER_PAGE}\"\n",
    "        url = web_page + api \n",
    "        # Make request\n",
    "        r = requests.get(url=url)\n",
    "        # Extracting data in json format \n",
    "        posts = r.json()\n",
    "        if 'code' in posts:  # TODO: Check if this is the correct error code\n",
    "            print(f\"No more posts could be found for {news_site} at page={page}\")\n",
    "            break  # no more posts returned\n",
    "        else:\n",
    "            print(f\"Getting {PER_PAGE} posts at page={page}\")\n",
    "            temp = pd.DataFrame()\n",
    "            for i in range(0,100):\n",
    "                pass\n",
    "                # post_data = extract_post_data(posts[i])\n",
    "                # TODO: Append data to dataframe\n",
    "                # temp = temp.append(post_data, ignore_index=True)\n",
    "        page += 1\n",
    "        # TODO: Append data to general dataframe and save current progress\n",
    "        # result = result.append(temp, ignore_index=True)\n",
    "        result.to_csv(f\"../data/{news_site}_posts.csv\")"
   ]
  },
  {
   "cell_type": "code",
   "execution_count": 9,
   "metadata": {},
   "outputs": [
    {
     "name": "stdout",
     "output_type": "stream",
     "text": [
      "3\n"
     ]
    }
   ],
   "source": [
    "data = {'code': 'rest_post_invalid_page_number', 'message': 'The page number requested is larger than the number of pages available.', 'data': {'status': 400}}\n",
    "print(len(data))"
   ]
  },
  {
   "cell_type": "code",
   "execution_count": null,
   "metadata": {},
   "outputs": [],
   "source": []
  },
  {
   "cell_type": "code",
   "execution_count": null,
   "metadata": {},
   "outputs": [],
   "source": []
  },
  {
   "cell_type": "code",
   "execution_count": null,
   "metadata": {},
   "outputs": [],
   "source": []
  }
 ],
 "metadata": {
  "kernelspec": {
   "display_name": "Python 3",
   "language": "python",
   "name": "python3"
  },
  "language_info": {
   "codemirror_mode": {
    "name": "ipython",
    "version": 3
   },
   "file_extension": ".py",
   "mimetype": "text/x-python",
   "name": "python",
   "nbconvert_exporter": "python",
   "pygments_lexer": "ipython3",
   "version": "3.7.3"
  }
 },
 "nbformat": 4,
 "nbformat_minor": 4
}
